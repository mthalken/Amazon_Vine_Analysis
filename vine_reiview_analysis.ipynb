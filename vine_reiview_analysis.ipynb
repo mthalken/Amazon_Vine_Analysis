{
  "nbformat": 4,
  "nbformat_minor": 0,
  "metadata": {
    "colab": {
      "name": "vine_reiview_analysis.ipynb",
      "provenance": [],
      "collapsed_sections": []
    },
    "kernelspec": {
      "name": "python3",
      "display_name": "Python 3"
    },
    "language_info": {
      "name": "python"
    }
  },
  "cells": [
    {
      "cell_type": "code",
      "execution_count": 1,
      "metadata": {
        "colab": {
          "base_uri": "https://localhost:8080/"
        },
        "id": "kgGX9_I8YHPG",
        "outputId": "1bd7309c-df49-4d4f-d0a7-50430907ba2d"
      },
      "outputs": [
        {
          "output_type": "stream",
          "name": "stdout",
          "text": [
            "Get:1 https://cloud.r-project.org/bin/linux/ubuntu bionic-cran40/ InRelease [3,626 B]\n",
            "Ign:2 https://developer.download.nvidia.com/compute/cuda/repos/ubuntu1804/x86_64  InRelease\n",
            "Get:3 http://ppa.launchpad.net/c2d4u.team/c2d4u4.0+/ubuntu bionic InRelease [15.9 kB]\n",
            "Ign:4 https://developer.download.nvidia.com/compute/machine-learning/repos/ubuntu1804/x86_64  InRelease\n",
            "Get:5 https://developer.download.nvidia.com/compute/cuda/repos/ubuntu1804/x86_64  Release [696 B]\n",
            "Hit:6 https://developer.download.nvidia.com/compute/machine-learning/repos/ubuntu1804/x86_64  Release\n",
            "Get:7 https://developer.download.nvidia.com/compute/cuda/repos/ubuntu1804/x86_64  Release.gpg [836 B]\n",
            "Hit:8 http://archive.ubuntu.com/ubuntu bionic InRelease\n",
            "Get:9 http://security.ubuntu.com/ubuntu bionic-security InRelease [88.7 kB]\n",
            "Get:10 http://archive.ubuntu.com/ubuntu bionic-updates InRelease [88.7 kB]\n",
            "Hit:11 http://ppa.launchpad.net/cran/libgit2/ubuntu bionic InRelease\n",
            "Hit:12 http://ppa.launchpad.net/deadsnakes/ppa/ubuntu bionic InRelease\n",
            "Get:14 http://archive.ubuntu.com/ubuntu bionic-backports InRelease [74.6 kB]\n",
            "Hit:15 http://ppa.launchpad.net/graphics-drivers/ppa/ubuntu bionic InRelease\n",
            "Get:16 https://developer.download.nvidia.com/compute/cuda/repos/ubuntu1804/x86_64  Packages [834 kB]\n",
            "Get:17 http://ppa.launchpad.net/c2d4u.team/c2d4u4.0+/ubuntu bionic/main Sources [1,822 kB]\n",
            "Get:18 http://ppa.launchpad.net/c2d4u.team/c2d4u4.0+/ubuntu bionic/main amd64 Packages [934 kB]\n",
            "Get:19 http://security.ubuntu.com/ubuntu bionic-security/main amd64 Packages [2,498 kB]\n",
            "Get:20 http://security.ubuntu.com/ubuntu bionic-security/restricted amd64 Packages [725 kB]\n",
            "Get:21 http://security.ubuntu.com/ubuntu bionic-security/universe amd64 Packages [1,459 kB]\n",
            "Get:22 http://archive.ubuntu.com/ubuntu bionic-updates/main amd64 Packages [2,935 kB]\n",
            "Get:23 http://archive.ubuntu.com/ubuntu bionic-updates/universe amd64 Packages [2,238 kB]\n",
            "Get:24 http://archive.ubuntu.com/ubuntu bionic-updates/restricted amd64 Packages [758 kB]\n",
            "Fetched 14.5 MB in 5s (2,928 kB/s)\n",
            "Reading package lists... Done\n"
          ]
        }
      ],
      "source": [
        "import os\n",
        "# Find the latest version of spark 3.0 from http://www.apache.org/dist/spark/ and enter as the spark version\n",
        "# For example:\n",
        "# spark_version = 'spark-3.0.3'\n",
        "spark_version = 'spark-3.2.0'\n",
        "os.environ['SPARK_VERSION']=spark_version\n",
        "\n",
        "# Install Spark and Java\n",
        "!apt-get update\n",
        "!apt-get install openjdk-11-jdk-headless -qq > /dev/null\n",
        "!wget -q http://www.apache.org/dist/spark/$SPARK_VERSION/$SPARK_VERSION-bin-hadoop2.7.tgz\n",
        "!tar xf $SPARK_VERSION-bin-hadoop2.7.tgz\n",
        "!pip install -q findspark\n",
        "\n",
        "# Set Environment Variables\n",
        "import os\n",
        "os.environ[\"JAVA_HOME\"] = \"/usr/lib/jvm/java-11-openjdk-amd64\"\n",
        "os.environ[\"SPARK_HOME\"] = f\"/content/{spark_version}-bin-hadoop2.7\"\n",
        "\n",
        "# Start a SparkSession\n",
        "import findspark\n",
        "findspark.init()"
      ]
    },
    {
      "cell_type": "code",
      "source": [
        "# Download the Postgres driver that will allow Spark to interact with Postgres.\n",
        "# !wget https://jdbc.postgresql.org/download/postgresql-42.2.16.jar"
      ],
      "metadata": {
        "id": "UoEw11-yZFou"
      },
      "execution_count": null,
      "outputs": []
    },
    {
      "cell_type": "code",
      "source": [
        "from pyspark.sql import SparkSession\n",
        "spark = SparkSession.builder.appName(\"M16-Amazon-Challenge\").config(\"spark.driver.extraClassPath\",\"/content/postgresql-42.2.16.jar\").getOrCreate()"
      ],
      "metadata": {
        "id": "yK0MZxzuZFuO"
      },
      "execution_count": 2,
      "outputs": []
    },
    {
      "cell_type": "code",
      "source": [
        "from pyspark import SparkFiles\n",
        "url = \"https://s3.amazonaws.com/amazon-reviews-pds/tsv/amazon_reviews_us_Gift_Card_v1_00.tsv.gz\"\n",
        "spark.sparkContext.addFile(url)\n",
        "df = spark.read.option(\"encoding\", \"UTF-8\").csv(SparkFiles.get(\"\"), sep=\"\\t\", header=True, inferSchema=True)\n",
        "df.show()"
      ],
      "metadata": {
        "colab": {
          "base_uri": "https://localhost:8080/"
        },
        "id": "C7-_aCPFZFy-",
        "outputId": "c65ba419-f742-4ee3-90cd-8e4bbea762d9"
      },
      "execution_count": 3,
      "outputs": [
        {
          "output_type": "stream",
          "name": "stdout",
          "text": [
            "+-----------+-----------+--------------+----------+--------------+--------------------+----------------+-----------+-------------+-----------+----+-----------------+--------------------+--------------------+-----------+\n",
            "|marketplace|customer_id|     review_id|product_id|product_parent|       product_title|product_category|star_rating|helpful_votes|total_votes|vine|verified_purchase|     review_headline|         review_body|review_date|\n",
            "+-----------+-----------+--------------+----------+--------------+--------------------+----------------+-----------+-------------+-----------+----+-----------------+--------------------+--------------------+-----------+\n",
            "|         US|   24371595|R27ZP1F1CD0C3Y|B004LLIL5A|     346014806|Amazon eGift Card...|       Gift Card|          5|            0|          0|   N|                Y|          Five Stars|Great birthday gi...| 2015-08-31|\n",
            "|         US|   42489718| RJ7RSBCHUDNNE|B004LLIKVU|     473048287|Amazon.com eGift ...|       Gift Card|          5|            0|          0|   N|                Y|Gift card for the...|It's an Amazon gi...| 2015-08-31|\n",
            "|         US|     861463|R1HVYBSKLQJI5S|B00IX1I3G6|     926539283|Amazon.com Gift C...|       Gift Card|          5|            0|          0|   N|                Y|          Five Stars|                Good| 2015-08-31|\n",
            "|         US|   25283295|R2HAXF0IIYQBIR|B00IX1I3G6|     926539283|Amazon.com Gift C...|       Gift Card|          1|            0|          0|   N|                Y|            One Star|                Fair| 2015-08-31|\n",
            "|         US|     397970| RNYLPX611NB7Q|B005ESMGV4|     379368939|Amazon.com Gift C...|       Gift Card|          5|            0|          0|   N|                Y|          Five Stars|I can't believe h...| 2015-08-31|\n",
            "|         US|   18513645|R3ALA9XXMBEDZR|B004KNWWU4|     326384774|Amazon Gift Card ...|       Gift Card|          5|            0|          0|   N|                Y|Perfect for most ...|Perfect!  Nice & ...| 2015-08-31|\n",
            "|         US|   22484620|R3R8PHAVJFTPDF|B004LLIKVU|     473048287|Amazon.com eGift ...|       Gift Card|          5|            0|          0|   N|                Y|          Five Stars|            excelent| 2015-08-31|\n",
            "|         US|   14765851|R18WWEK8OIXE30|BT00CTP2EE|     775486538|Amazon.com Gift C...|       Gift Card|          5|            0|          0|   N|                Y|          Five Stars|Great and Safe Gi...| 2015-08-31|\n",
            "|         US|   18751931|R1EGUNQON2J277|B004LLIKVU|     473048287|Amazon.com eGift ...|       Gift Card|          1|            0|          0|   N|                Y|            One Star|       What?????????| 2015-08-31|\n",
            "|         US|   15100528|R21Z4M4L98CPU2|B004W8D102|     595099956|Amazon Gift Card ...|       Gift Card|          5|            0|          0|   N|                Y|          Five Stars|This was just too...| 2015-08-31|\n",
            "|         US|    3559726| R6JH7A117FHFA|B004LLIKVU|     473048287|Amazon.com eGift ...|       Gift Card|          5|            0|          0|   N|                Y|          Five Stars|                Bien| 2015-08-31|\n",
            "|         US|   23413911|R1XZHS8M1GCGI7|B004KNWWU4|     326384774|Amazon Gift Card ...|       Gift Card|          5|            1|          1|   N|                Y|         Always good|Easy to print fro...| 2015-08-31|\n",
            "|         US|    2026222|R1DAI0N03SKRJN|B004LLIKVU|     473048287|Amazon.com eGift ...|       Gift Card|          5|            1|          1|   N|                Y|          Five Stars|Amazing with 10 d...| 2015-08-31|\n",
            "|         US|   32956435|R2F6SKZOEYQRU3|B004LLIKVU|     473048287|Amazon.com eGift ...|       Gift Card|          5|            0|          0|   N|                N|          Five Stars|Remember Matthew ...| 2015-08-31|\n",
            "|         US|   20241560| RIBOP6OEAZA47|B00H5BNLUS|     637715957|Amazon eGift Card...|       Gift Card|          5|            1|          1|   N|                Y|          Five Stars|                good| 2015-08-31|\n",
            "|         US|   10670435|R15H8E7WD6XD29|B004KNWX6C|     763371347|Amazon Gift Card ...|       Gift Card|          5|            0|          0|   N|                Y|          Five Stars|Awesome way to se...| 2015-08-31|\n",
            "|         US|   48872127| RVN4P3RU4F8IE|BT00CTOYC0|     506740729|Amazon.com $15 Gi...|       Gift Card|          5|            0|          0|   N|                Y|Quick Solution fo...|I love that I hav...| 2015-08-31|\n",
            "|         US|     460630| RCS8F9JCAAXC7|B004LLIKVU|     473048287|Amazon.com eGift ...|       Gift Card|          4|            0|          0|   N|                Y|          Four Stars|Good gift. Easy t...| 2015-08-31|\n",
            "|         US|   41238378| R6811C4E7UYL2|B00H5BMH44|      81025991|Amazon eGift Card...|       Gift Card|          5|            0|          0|   N|                Y|  Satisfied customer|Satisfied as usua...| 2015-08-31|\n",
            "|         US|   14222739|R196T0NZ73TYIM|B005ESMMKE|     459536087|Amazon.com Gift C...|       Gift Card|          5|            1|          1|   N|                Y|          Five Stars|                nice| 2015-08-31|\n",
            "+-----------+-----------+--------------+----------+--------------+--------------------+----------------+-----------+-------------+-----------+----+-----------------+--------------------+--------------------+-----------+\n",
            "only showing top 20 rows\n",
            "\n"
          ]
        }
      ]
    },
    {
      "cell_type": "code",
      "source": [
        "# filter data and create df where total votes are greater than of equal to 20\n",
        "df_1 = df.filter(\"total_votes>=20\")\n",
        "df_1.show()"
      ],
      "metadata": {
        "colab": {
          "base_uri": "https://localhost:8080/"
        },
        "id": "54zUF_9JZF4N",
        "outputId": "daa7b3f2-6133-4d41-8ca0-f4c48ef38417"
      },
      "execution_count": 12,
      "outputs": [
        {
          "output_type": "stream",
          "name": "stdout",
          "text": [
            "+-----------+-----------+--------------+----------+--------------+--------------------+----------------+-----------+-------------+-----------+----+-----------------+--------------------+--------------------+-----------+\n",
            "|marketplace|customer_id|     review_id|product_id|product_parent|       product_title|product_category|star_rating|helpful_votes|total_votes|vine|verified_purchase|     review_headline|         review_body|review_date|\n",
            "+-----------+-----------+--------------+----------+--------------+--------------------+----------------+-----------+-------------+-----------+----+-----------------+--------------------+--------------------+-----------+\n",
            "|         US|   18888920|R36PQ9D8L2AAOH|B00JDQJVF2|     255898874|Amazon.com Gift C...|       Gift Card|          5|           30|         32|   N|                Y|          Five Stars|Love this adorabl...| 2015-08-26|\n",
            "|         US|    4765280|R23GHBE86II0SK|B007V6ETDK|     924812503|Amazon eGift Card...|       Gift Card|          5|           18|         21|   N|                Y|Los Angeles Alway...|      Great idea Ama| 2015-08-18|\n",
            "|         US|   39230280|R18KVPY0TO33BM|B00JDQJVF2|     255898874|Amazon.com Gift C...|       Gift Card|          5|          241|        248|   N|                Y|Very sweet and co...|I am very impress...| 2015-08-16|\n",
            "|         US|     167348|R2ZB78BDM8BRCF|B004LLIKVU|     473048287|Amazon.com eGift ...|       Gift Card|          1|           99|        113|   N|                Y|             Scammed|You should have a...| 2015-08-13|\n",
            "|         US|   16553928|R2JMJOWGM7V7NX|BT00CTP6MM|     775486538|Amazon.com Gift C...|       Gift Card|          4|           20|         20|   N|                N|          Four Stars|Thank you note wa...| 2015-07-24|\n",
            "|         US|   39357721|R10ORTN0I3G5B9|B00IX1I3G6|     926539283|Amazon.com Gift C...|       Gift Card|          1|           19|         26|   N|                Y|It is getting clo...|Gift cards are no...| 2015-07-18|\n",
            "|         US|   43437405|R1D1VPJBTP1WG8|B00IX1I3G6|     926539283|Amazon.com Gift C...|       Gift Card|          1|           38|         51|   N|                Y|I am still waitin...|I recently tried ...| 2015-07-13|\n",
            "|         US|   50118836|R3Q3ULUTULAQYH|B00IX1I3G6|     926539283|Amazon.com Gift C...|       Gift Card|          1|           22|         29|   N|                Y|      Not impressed.|Am not impressed....| 2015-07-11|\n",
            "|         US|   20020797|R1SHEELXA1IXQP|B00A48G0D4|     848703272|Amazon eGift Card...|       Gift Card|          5|           45|         57|   N|                Y|These gift cards ...|These are handy! ...| 2015-07-10|\n",
            "|         US|     212175|R1IQJ99JOPJOE4|B004LLIKVU|     473048287|Amazon.com eGift ...|       Gift Card|          5|           73|         94|   N|                N|                😅😂|Ok, I haven't bou...| 2015-07-08|\n",
            "|         US|     338223|R32PHGNOUNJVY2|B004LLIKVU|     473048287|Amazon.com eGift ...|       Gift Card|          1|          111|        150|   N|                Y|            One Star|the Quality is ve...| 2015-07-06|\n",
            "|         US|     256644|R32HQ18L7FOP3N|B005FGQHKQ|     379368939|Amazon.com Gift C...|       Gift Card|          1|           18|         23|   N|                N|              Read!!|Most of the 5-sta...| 2015-07-06|\n",
            "|         US|   50541491|R2IPGL0F4OCNO9|B00JFBLZ90|     255898874|Amazon.com Gift C...|       Gift Card|          1|           18|         24|   N|                N|I ordered a gift ...|I ordered a gift ...| 2015-06-24|\n",
            "|         US|    2547198| R4RNS35ZXYWSU|B00JDQKELW|     832087091|Amazon.com Gift C...|       Gift Card|          2|           52|         59|   N|                Y|   Dented Metal Case|Though the card w...| 2015-06-22|\n",
            "|         US|    2290967| R5S7HIQAWL5QS|B0091JL2CQ|     349029296|Amazon.com Gift C...|       Gift Card|          5|           48|         49|   N|                Y|This is seriously...|I purchased this ...| 2015-06-14|\n",
            "|         US|   50733118|R12LGU9RL181NG|B004LLIKVU|     473048287|Amazon.com eGift ...|       Gift Card|          1|         5987|       6323|   N|                Y|Amazon should do ...|I think I am just...| 2015-06-13|\n",
            "|         US|   21950425|R1ZMHE6AO0T6MO|B00CHQKIDE|     564167907|Amazon.com Gift C...|       Gift Card|          5|           67|         75|   N|                N|          Five Stars|     Awesome to have| 2015-06-11|\n",
            "|         US|    1356854| R66RKRKYK3VMO|B0066AZGD4|     136017760|Amazon eGift Card...|       Gift Card|          5|           74|         89|   N|                Y|\"When you really ...|Love that you can...| 2015-06-05|\n",
            "|         US|    3250748| R1SVG06BEMESM|B004LLIKVU|     473048287|Amazon.com eGift ...|       Gift Card|          5|           92|        126|   N|                Y|my first order of...|this is the third...| 2015-06-04|\n",
            "|         US|   52940323|R1Q5MWSSP3RMYJ|B00JDQJVF2|     255898874|Amazon.com Gift C...|       Gift Card|          1|           25|         29|   N|                Y|Risky Gift Card D...|What's not to lik...| 2015-06-03|\n",
            "+-----------+-----------+--------------+----------+--------------+--------------------+----------------+-----------+-------------+-----------+----+-----------------+--------------------+--------------------+-----------+\n",
            "only showing top 20 rows\n",
            "\n"
          ]
        }
      ]
    },
    {
      "cell_type": "code",
      "source": [
        "# create new df to filter helpful votes divided by total votes\n",
        "df_2 = df_1.filter(\"(helpful_votes/total_votes)>=.5\")\n",
        "df_2.show()"
      ],
      "metadata": {
        "colab": {
          "base_uri": "https://localhost:8080/"
        },
        "id": "6AYvqnHdZF-1",
        "outputId": "13e21976-1565-46b2-f7bd-b0221abee210"
      },
      "execution_count": 13,
      "outputs": [
        {
          "output_type": "stream",
          "name": "stdout",
          "text": [
            "+-----------+-----------+--------------+----------+--------------+--------------------+----------------+-----------+-------------+-----------+----+-----------------+--------------------+--------------------+-----------+\n",
            "|marketplace|customer_id|     review_id|product_id|product_parent|       product_title|product_category|star_rating|helpful_votes|total_votes|vine|verified_purchase|     review_headline|         review_body|review_date|\n",
            "+-----------+-----------+--------------+----------+--------------+--------------------+----------------+-----------+-------------+-----------+----+-----------------+--------------------+--------------------+-----------+\n",
            "|         US|   18888920|R36PQ9D8L2AAOH|B00JDQJVF2|     255898874|Amazon.com Gift C...|       Gift Card|          5|           30|         32|   N|                Y|          Five Stars|Love this adorabl...| 2015-08-26|\n",
            "|         US|    4765280|R23GHBE86II0SK|B007V6ETDK|     924812503|Amazon eGift Card...|       Gift Card|          5|           18|         21|   N|                Y|Los Angeles Alway...|      Great idea Ama| 2015-08-18|\n",
            "|         US|   39230280|R18KVPY0TO33BM|B00JDQJVF2|     255898874|Amazon.com Gift C...|       Gift Card|          5|          241|        248|   N|                Y|Very sweet and co...|I am very impress...| 2015-08-16|\n",
            "|         US|     167348|R2ZB78BDM8BRCF|B004LLIKVU|     473048287|Amazon.com eGift ...|       Gift Card|          1|           99|        113|   N|                Y|             Scammed|You should have a...| 2015-08-13|\n",
            "|         US|   16553928|R2JMJOWGM7V7NX|BT00CTP6MM|     775486538|Amazon.com Gift C...|       Gift Card|          4|           20|         20|   N|                N|          Four Stars|Thank you note wa...| 2015-07-24|\n",
            "|         US|   39357721|R10ORTN0I3G5B9|B00IX1I3G6|     926539283|Amazon.com Gift C...|       Gift Card|          1|           19|         26|   N|                Y|It is getting clo...|Gift cards are no...| 2015-07-18|\n",
            "|         US|   43437405|R1D1VPJBTP1WG8|B00IX1I3G6|     926539283|Amazon.com Gift C...|       Gift Card|          1|           38|         51|   N|                Y|I am still waitin...|I recently tried ...| 2015-07-13|\n",
            "|         US|   50118836|R3Q3ULUTULAQYH|B00IX1I3G6|     926539283|Amazon.com Gift C...|       Gift Card|          1|           22|         29|   N|                Y|      Not impressed.|Am not impressed....| 2015-07-11|\n",
            "|         US|   20020797|R1SHEELXA1IXQP|B00A48G0D4|     848703272|Amazon eGift Card...|       Gift Card|          5|           45|         57|   N|                Y|These gift cards ...|These are handy! ...| 2015-07-10|\n",
            "|         US|     212175|R1IQJ99JOPJOE4|B004LLIKVU|     473048287|Amazon.com eGift ...|       Gift Card|          5|           73|         94|   N|                N|                😅😂|Ok, I haven't bou...| 2015-07-08|\n",
            "|         US|     338223|R32PHGNOUNJVY2|B004LLIKVU|     473048287|Amazon.com eGift ...|       Gift Card|          1|          111|        150|   N|                Y|            One Star|the Quality is ve...| 2015-07-06|\n",
            "|         US|     256644|R32HQ18L7FOP3N|B005FGQHKQ|     379368939|Amazon.com Gift C...|       Gift Card|          1|           18|         23|   N|                N|              Read!!|Most of the 5-sta...| 2015-07-06|\n",
            "|         US|   50541491|R2IPGL0F4OCNO9|B00JFBLZ90|     255898874|Amazon.com Gift C...|       Gift Card|          1|           18|         24|   N|                N|I ordered a gift ...|I ordered a gift ...| 2015-06-24|\n",
            "|         US|    2547198| R4RNS35ZXYWSU|B00JDQKELW|     832087091|Amazon.com Gift C...|       Gift Card|          2|           52|         59|   N|                Y|   Dented Metal Case|Though the card w...| 2015-06-22|\n",
            "|         US|    2290967| R5S7HIQAWL5QS|B0091JL2CQ|     349029296|Amazon.com Gift C...|       Gift Card|          5|           48|         49|   N|                Y|This is seriously...|I purchased this ...| 2015-06-14|\n",
            "|         US|   50733118|R12LGU9RL181NG|B004LLIKVU|     473048287|Amazon.com eGift ...|       Gift Card|          1|         5987|       6323|   N|                Y|Amazon should do ...|I think I am just...| 2015-06-13|\n",
            "|         US|   21950425|R1ZMHE6AO0T6MO|B00CHQKIDE|     564167907|Amazon.com Gift C...|       Gift Card|          5|           67|         75|   N|                N|          Five Stars|     Awesome to have| 2015-06-11|\n",
            "|         US|    1356854| R66RKRKYK3VMO|B0066AZGD4|     136017760|Amazon eGift Card...|       Gift Card|          5|           74|         89|   N|                Y|\"When you really ...|Love that you can...| 2015-06-05|\n",
            "|         US|    3250748| R1SVG06BEMESM|B004LLIKVU|     473048287|Amazon.com eGift ...|       Gift Card|          5|           92|        126|   N|                Y|my first order of...|this is the third...| 2015-06-04|\n",
            "|         US|   52940323|R1Q5MWSSP3RMYJ|B00JDQJVF2|     255898874|Amazon.com Gift C...|       Gift Card|          1|           25|         29|   N|                Y|Risky Gift Card D...|What's not to lik...| 2015-06-03|\n",
            "+-----------+-----------+--------------+----------+--------------+--------------------+----------------+-----------+-------------+-----------+----+-----------------+--------------------+--------------------+-----------+\n",
            "only showing top 20 rows\n",
            "\n"
          ]
        }
      ]
    },
    {
      "cell_type": "code",
      "source": [
        "# filter by vine users\n",
        "vine_users = df_2.filter(\"vine == 'Y'\")\n",
        "vine_users.show()"
      ],
      "metadata": {
        "colab": {
          "base_uri": "https://localhost:8080/"
        },
        "id": "R6j8R4qcZGE9",
        "outputId": "6f565332-3a80-4ba1-f8eb-8d1acb6506e8"
      },
      "execution_count": 23,
      "outputs": [
        {
          "output_type": "stream",
          "name": "stdout",
          "text": [
            "+-----------+-----------+---------+----------+--------------+-------------+----------------+-----------+-------------+-----------+----+-----------------+---------------+-----------+-----------+\n",
            "|marketplace|customer_id|review_id|product_id|product_parent|product_title|product_category|star_rating|helpful_votes|total_votes|vine|verified_purchase|review_headline|review_body|review_date|\n",
            "+-----------+-----------+---------+----------+--------------+-------------+----------------+-----------+-------------+-----------+----+-----------------+---------------+-----------+-----------+\n",
            "+-----------+-----------+---------+----------+--------------+-------------+----------------+-----------+-------------+-----------+----+-----------------+---------------+-----------+-----------+\n",
            "\n"
          ]
        }
      ]
    },
    {
      "cell_type": "code",
      "source": [
        "#find the total number of users that used vine\n",
        "total_paid = vine_users.count()\n",
        "total_paid"
      ],
      "metadata": {
        "colab": {
          "base_uri": "https://localhost:8080/"
        },
        "id": "-W5WCMmgZGR1",
        "outputId": "8fe0f529-1507-4dd2-d3c4-bbb8c3f1c5a7"
      },
      "execution_count": 27,
      "outputs": [
        {
          "output_type": "execute_result",
          "data": {
            "text/plain": [
              "0"
            ]
          },
          "metadata": {},
          "execution_count": 27
        }
      ]
    },
    {
      "cell_type": "code",
      "source": [
        "# filter by not vine users\n",
        "not_vine_users = df_2.filter(\"vine == 'N'\")\n",
        "not_vine_users.show()"
      ],
      "metadata": {
        "colab": {
          "base_uri": "https://localhost:8080/"
        },
        "id": "SLL5_PzCZGKN",
        "outputId": "98db7d08-70c9-4541-f32e-4dcd079a3ec5"
      },
      "execution_count": 24,
      "outputs": [
        {
          "output_type": "stream",
          "name": "stdout",
          "text": [
            "+-----------+-----------+--------------+----------+--------------+--------------------+----------------+-----------+-------------+-----------+----+-----------------+--------------------+--------------------+-----------+\n",
            "|marketplace|customer_id|     review_id|product_id|product_parent|       product_title|product_category|star_rating|helpful_votes|total_votes|vine|verified_purchase|     review_headline|         review_body|review_date|\n",
            "+-----------+-----------+--------------+----------+--------------+--------------------+----------------+-----------+-------------+-----------+----+-----------------+--------------------+--------------------+-----------+\n",
            "|         US|   18888920|R36PQ9D8L2AAOH|B00JDQJVF2|     255898874|Amazon.com Gift C...|       Gift Card|          5|           30|         32|   N|                Y|          Five Stars|Love this adorabl...| 2015-08-26|\n",
            "|         US|    4765280|R23GHBE86II0SK|B007V6ETDK|     924812503|Amazon eGift Card...|       Gift Card|          5|           18|         21|   N|                Y|Los Angeles Alway...|      Great idea Ama| 2015-08-18|\n",
            "|         US|   39230280|R18KVPY0TO33BM|B00JDQJVF2|     255898874|Amazon.com Gift C...|       Gift Card|          5|          241|        248|   N|                Y|Very sweet and co...|I am very impress...| 2015-08-16|\n",
            "|         US|     167348|R2ZB78BDM8BRCF|B004LLIKVU|     473048287|Amazon.com eGift ...|       Gift Card|          1|           99|        113|   N|                Y|             Scammed|You should have a...| 2015-08-13|\n",
            "|         US|   16553928|R2JMJOWGM7V7NX|BT00CTP6MM|     775486538|Amazon.com Gift C...|       Gift Card|          4|           20|         20|   N|                N|          Four Stars|Thank you note wa...| 2015-07-24|\n",
            "|         US|   39357721|R10ORTN0I3G5B9|B00IX1I3G6|     926539283|Amazon.com Gift C...|       Gift Card|          1|           19|         26|   N|                Y|It is getting clo...|Gift cards are no...| 2015-07-18|\n",
            "|         US|   43437405|R1D1VPJBTP1WG8|B00IX1I3G6|     926539283|Amazon.com Gift C...|       Gift Card|          1|           38|         51|   N|                Y|I am still waitin...|I recently tried ...| 2015-07-13|\n",
            "|         US|   50118836|R3Q3ULUTULAQYH|B00IX1I3G6|     926539283|Amazon.com Gift C...|       Gift Card|          1|           22|         29|   N|                Y|      Not impressed.|Am not impressed....| 2015-07-11|\n",
            "|         US|   20020797|R1SHEELXA1IXQP|B00A48G0D4|     848703272|Amazon eGift Card...|       Gift Card|          5|           45|         57|   N|                Y|These gift cards ...|These are handy! ...| 2015-07-10|\n",
            "|         US|     212175|R1IQJ99JOPJOE4|B004LLIKVU|     473048287|Amazon.com eGift ...|       Gift Card|          5|           73|         94|   N|                N|                😅😂|Ok, I haven't bou...| 2015-07-08|\n",
            "|         US|     338223|R32PHGNOUNJVY2|B004LLIKVU|     473048287|Amazon.com eGift ...|       Gift Card|          1|          111|        150|   N|                Y|            One Star|the Quality is ve...| 2015-07-06|\n",
            "|         US|     256644|R32HQ18L7FOP3N|B005FGQHKQ|     379368939|Amazon.com Gift C...|       Gift Card|          1|           18|         23|   N|                N|              Read!!|Most of the 5-sta...| 2015-07-06|\n",
            "|         US|   50541491|R2IPGL0F4OCNO9|B00JFBLZ90|     255898874|Amazon.com Gift C...|       Gift Card|          1|           18|         24|   N|                N|I ordered a gift ...|I ordered a gift ...| 2015-06-24|\n",
            "|         US|    2547198| R4RNS35ZXYWSU|B00JDQKELW|     832087091|Amazon.com Gift C...|       Gift Card|          2|           52|         59|   N|                Y|   Dented Metal Case|Though the card w...| 2015-06-22|\n",
            "|         US|    2290967| R5S7HIQAWL5QS|B0091JL2CQ|     349029296|Amazon.com Gift C...|       Gift Card|          5|           48|         49|   N|                Y|This is seriously...|I purchased this ...| 2015-06-14|\n",
            "|         US|   50733118|R12LGU9RL181NG|B004LLIKVU|     473048287|Amazon.com eGift ...|       Gift Card|          1|         5987|       6323|   N|                Y|Amazon should do ...|I think I am just...| 2015-06-13|\n",
            "|         US|   21950425|R1ZMHE6AO0T6MO|B00CHQKIDE|     564167907|Amazon.com Gift C...|       Gift Card|          5|           67|         75|   N|                N|          Five Stars|     Awesome to have| 2015-06-11|\n",
            "|         US|    1356854| R66RKRKYK3VMO|B0066AZGD4|     136017760|Amazon eGift Card...|       Gift Card|          5|           74|         89|   N|                Y|\"When you really ...|Love that you can...| 2015-06-05|\n",
            "|         US|    3250748| R1SVG06BEMESM|B004LLIKVU|     473048287|Amazon.com eGift ...|       Gift Card|          5|           92|        126|   N|                Y|my first order of...|this is the third...| 2015-06-04|\n",
            "|         US|   52940323|R1Q5MWSSP3RMYJ|B00JDQJVF2|     255898874|Amazon.com Gift C...|       Gift Card|          1|           25|         29|   N|                Y|Risky Gift Card D...|What's not to lik...| 2015-06-03|\n",
            "+-----------+-----------+--------------+----------+--------------+--------------------+----------------+-----------+-------------+-----------+----+-----------------+--------------------+--------------------+-----------+\n",
            "only showing top 20 rows\n",
            "\n"
          ]
        }
      ]
    },
    {
      "cell_type": "code",
      "source": [
        "#find the total number of users that did not use vine\n",
        "total_not_paid = not_vine_users.count()\n",
        "total_not_paid"
      ],
      "metadata": {
        "colab": {
          "base_uri": "https://localhost:8080/"
        },
        "id": "nJ8EXuOwZGZt",
        "outputId": "7f1af1f0-3e33-4d0f-d168-fc01a5eb253d"
      },
      "execution_count": 28,
      "outputs": [
        {
          "output_type": "execute_result",
          "data": {
            "text/plain": [
              "355"
            ]
          },
          "metadata": {},
          "execution_count": 28
        }
      ]
    },
    {
      "cell_type": "code",
      "source": [
        "#find the total 5 star rating for users that did not use vine\n",
        "total_not_paid_5_star = df_2.filter(\"vine == 'N'\").filter('star_rating == 5').count()\n",
        "total_not_paid_5_star"
      ],
      "metadata": {
        "colab": {
          "base_uri": "https://localhost:8080/"
        },
        "id": "64-FBpxiZGfF",
        "outputId": "e1465f7b-f11a-4bb3-bdb9-3adb7a07918c"
      },
      "execution_count": 37,
      "outputs": [
        {
          "output_type": "execute_result",
          "data": {
            "text/plain": [
              "90"
            ]
          },
          "metadata": {},
          "execution_count": 37
        }
      ]
    },
    {
      "cell_type": "code",
      "source": [
        "#find the percentage for users that voted 5 stars vs the total not paid\n",
        "total_not_paid_percent = (total_not_paid_5_star/total_not_paid)*100\n",
        "total_not_paid_percent"
      ],
      "metadata": {
        "colab": {
          "base_uri": "https://localhost:8080/"
        },
        "id": "vY_ewK9VZGv1",
        "outputId": "adf86337-825b-4f8c-b25e-e738e5c65c67"
      },
      "execution_count": 40,
      "outputs": [
        {
          "output_type": "execute_result",
          "data": {
            "text/plain": [
              "25.352112676056336"
            ]
          },
          "metadata": {},
          "execution_count": 40
        }
      ]
    },
    {
      "cell_type": "code",
      "source": [
        ""
      ],
      "metadata": {
        "id": "0vHzWmLyZG1l"
      },
      "execution_count": null,
      "outputs": []
    },
    {
      "cell_type": "code",
      "source": [
        ""
      ],
      "metadata": {
        "id": "oGUYHgt_ZG8-"
      },
      "execution_count": null,
      "outputs": []
    }
  ]
}